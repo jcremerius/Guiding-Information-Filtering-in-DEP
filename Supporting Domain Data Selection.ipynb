{
 "cells": [
  {
   "cell_type": "markdown",
   "metadata": {},
   "source": [
    "This notebook takes the generated event log in CSV format and classifies the event attributes according to their process characteristic. Further, it calculates the coefficient of variation(CV), which is used to measure the degree of variety."
   ]
  },
  {
   "cell_type": "code",
   "execution_count": null,
   "metadata": {},
   "outputs": [],
   "source": [
    "import numpy as np\n",
    "from psycopg2 import connect\n",
    "import pandas as pd\n",
    "import pm4py\n",
    "import numpy as np\n",
    "import pandasql as ps\n",
    "from scipy.stats import variation\n",
    "import matplotlib.cm as cm\n",
    "import matplotlib\n",
    "import sklearn.preprocessing as sk"
   ]
  },
  {
   "cell_type": "code",
   "execution_count": null,
   "metadata": {},
   "outputs": [],
   "source": [
    "final_pm = pd.read_csv(\"Heart_Failure_Log.csv\")"
   ]
  },
  {
   "cell_type": "code",
   "execution_count": null,
   "metadata": {},
   "outputs": [],
   "source": [
    "#drop unnecessary attributes(optional)\n",
    "final_pm = final_pm.drop([\"subject_id\", \"transfer_id\", \"intime\", \"outtime\", \"Unnamed: 0\", \"stay_id\"], axis=1)"
   ]
  },
  {
   "cell_type": "code",
   "execution_count": null,
   "metadata": {},
   "outputs": [],
   "source": [
    "#specify column where the activity is stored\n",
    "activity = \"department\""
   ]
  },
  {
   "cell_type": "code",
   "execution_count": null,
   "metadata": {},
   "outputs": [],
   "source": [
    "#specify column where the case identifier is stored\n",
    "case_id = \"hadm_id\""
   ]
  },
  {
   "cell_type": "code",
   "execution_count": null,
   "metadata": {},
   "outputs": [],
   "source": [
    "activities = final_pm[activity].unique()"
   ]
  },
  {
   "cell_type": "code",
   "execution_count": null,
   "metadata": {},
   "outputs": [],
   "source": [
    "matrix = pd.DataFrame(data=None, columns=activities)"
   ]
  },
  {
   "cell_type": "code",
   "execution_count": null,
   "metadata": {
    "scrolled": true
   },
   "outputs": [],
   "source": [
    "#identify attributes for activities\n",
    "att_card = pd.DataFrame(data=None,columns=final_pm.columns)\n",
    "for dep in activities:\n",
    "    print(dep)\n",
    "    dep_data = final_pm.loc[final_pm[activity] == dep]\n",
    "    y = dep_data.groupby(activity).agg({lambda x: x.notnull().sum()})\n",
    "    y.columns = y.columns.droplevel(1)\n",
    "    y = y.reset_index().drop(activity, axis=1)\n",
    "    row_num = len(dep_data)\n",
    "    row = y.loc[0]\n",
    "    for col in y.columns:\n",
    "        t = 0.05\n",
    "        if(row[col] > (row_num*t)):\n",
    "            row[col] = 1\n",
    "        else:\n",
    "            row[col] = 0\n",
    "    row[activity] = dep\n",
    "    att_card = att_card.append(row)\n",
    "    \n"
   ]
  },
  {
   "cell_type": "code",
   "execution_count": null,
   "metadata": {},
   "outputs": [],
   "source": [
    "att_card.drop(case_id, axis=1, inplace=True)"
   ]
  },
  {
   "cell_type": "code",
   "execution_count": null,
   "metadata": {},
   "outputs": [],
   "source": [
    "att_card.to_csv(\"attributesForActivity.csv\")"
   ]
  },
  {
   "cell_type": "code",
   "execution_count": null,
   "metadata": {},
   "outputs": [],
   "source": [
    "# for each attribute: number of activities + number of occurence in a trace"
   ]
  },
  {
   "cell_type": "code",
   "execution_count": null,
   "metadata": {},
   "outputs": [],
   "source": [
    "number_trace_occurence = final_pm.groupby(case_id).agg({lambda x: x.notnull().sum()})"
   ]
  },
  {
   "cell_type": "code",
   "execution_count": null,
   "metadata": {},
   "outputs": [],
   "source": [
    "#drop concept:name\n",
    "number_trace_occurence.drop(activity, axis=1, inplace=True)"
   ]
  },
  {
   "cell_type": "code",
   "execution_count": null,
   "metadata": {},
   "outputs": [],
   "source": [
    "number_trace_occurence.columns = number_trace_occurence.columns.droplevel(1)"
   ]
  },
  {
   "cell_type": "code",
   "execution_count": null,
   "metadata": {},
   "outputs": [],
   "source": [
    "number_trace_occurence = number_trace_occurence.mean()"
   ]
  },
  {
   "cell_type": "code",
   "execution_count": null,
   "metadata": {},
   "outputs": [],
   "source": [
    "number_trace_occurence = number_trace_occurence.rename(\"numberOfTraceOccurence (Mean)\")"
   ]
  },
  {
   "cell_type": "code",
   "execution_count": null,
   "metadata": {},
   "outputs": [],
   "source": [
    "number_of_activities = pd.Series([], name=\"numberOfActivities\")"
   ]
  },
  {
   "cell_type": "code",
   "execution_count": null,
   "metadata": {},
   "outputs": [],
   "source": [
    "for col in final_pm.columns:\n",
    "    if((col != case_id) & (col != activity)):\n",
    "        number_of_activities[col] = len(final_pm[[activity, col]].dropna()[activity].unique())"
   ]
  },
  {
   "cell_type": "code",
   "execution_count": null,
   "metadata": {},
   "outputs": [],
   "source": [
    "process_characteristics = pd.concat([number_of_activities, number_trace_occurence], axis=1)"
   ]
  },
  {
   "cell_type": "code",
   "execution_count": null,
   "metadata": {},
   "outputs": [],
   "source": [
    "for col in final_pm.columns:\n",
    "    if (final_pm[col].nunique()/final_pm[col].count() < 0.05):\n",
    "        process_characteristics.loc[col, \"type\"] = \"categorical\"\n",
    "    else:\n",
    "        process_characteristics.loc[col, \"type\"] = \"continuous\""
   ]
  },
  {
   "cell_type": "code",
   "execution_count": null,
   "metadata": {},
   "outputs": [],
   "source": [
    "process_characteristics = process_characteristics.drop(labels=[case_id, activity])"
   ]
  },
  {
   "cell_type": "code",
   "execution_count": null,
   "metadata": {},
   "outputs": [],
   "source": [
    "x = process_characteristics"
   ]
  },
  {
   "cell_type": "code",
   "execution_count": null,
   "metadata": {},
   "outputs": [],
   "source": [
    "def classify_attributes(proc_c):\n",
    "    for index, row in proc_c.iterrows():\n",
    "        if((row[\"numberOfActivities\"] == 1) & (row[\"numberOfTraceOccurence (Mean)\"] <= 1)):\n",
    "            proc_c.at[index, \"class\"] = \"static\"\n",
    "        elif((row[\"numberOfActivities\"] > 1) & (row[\"numberOfTraceOccurence (Mean)\"] <= 1)):\n",
    "            proc_c.at[index, \"class\"] = \"semi-dynamic\"\n",
    "        else:\n",
    "            proc_c.at[index, \"class\"] = \"dynamic\"\n",
    "    return proc_c"
   ]
  },
  {
   "cell_type": "code",
   "execution_count": null,
   "metadata": {},
   "outputs": [],
   "source": [
    "x = classify_attributes(process_characteristics)"
   ]
  },
  {
   "cell_type": "code",
   "execution_count": null,
   "metadata": {},
   "outputs": [],
   "source": [
    "x = x.reset_index()"
   ]
  },
  {
   "cell_type": "code",
   "execution_count": null,
   "metadata": {},
   "outputs": [],
   "source": [
    "x = x.rename({\"index\":\"Activity\"}, axis=1)"
   ]
  },
  {
   "cell_type": "code",
   "execution_count": null,
   "metadata": {
    "scrolled": false
   },
   "outputs": [],
   "source": [
    "attribute_classes = x[[\"Activity\", \"class\", \"type\"]]"
   ]
  },
  {
   "cell_type": "code",
   "execution_count": null,
   "metadata": {},
   "outputs": [],
   "source": [
    "attribute_classes[\"CV\"] = 0"
   ]
  },
  {
   "cell_type": "code",
   "execution_count": null,
   "metadata": {},
   "outputs": [],
   "source": [
    "recom = final_pm.copy(deep=True)"
   ]
  },
  {
   "cell_type": "code",
   "execution_count": null,
   "metadata": {},
   "outputs": [],
   "source": [
    "scaler = sk.MinMaxScaler(feature_range=(1,2))"
   ]
  },
  {
   "cell_type": "code",
   "execution_count": null,
   "metadata": {
    "scrolled": false
   },
   "outputs": [],
   "source": [
    "#normalize float values and create numbers for categories\n",
    "i = 1\n",
    "for col in recom.columns:\n",
    "    if ((col != case_id) & (col != activity)):\n",
    "        if(attribute_classes.loc[attribute_classes[\"Activity\"] == col][\"type\"].iloc[0] != \"continuous\"):\n",
    "            v_counts = final_pm[col].value_counts()\n",
    "            i = 1\n",
    "            for index, value in v_counts.items():\n",
    "                if((index != 1) & (index != 2)):\n",
    "                    recom[col] = final_pm[col].replace(index, i)\n",
    "                    i = i + 1\n",
    "                else:\n",
    "                    i = i + 1\n"
   ]
  },
  {
   "cell_type": "code",
   "execution_count": null,
   "metadata": {},
   "outputs": [],
   "source": [
    "def co_var(x):\n",
    "    return variation(x, nan_policy = \"omit\")"
   ]
  },
  {
   "cell_type": "code",
   "execution_count": null,
   "metadata": {},
   "outputs": [],
   "source": [
    "#recom filtering all non dynamic out"
   ]
  },
  {
   "cell_type": "code",
   "execution_count": null,
   "metadata": {},
   "outputs": [],
   "source": [
    "recom.drop(activity, axis=1, inplace=True)\n",
    "for col in recom.columns:\n",
    "    if((col != case_id) & (col != activity)):\n",
    "        if(attribute_classes.loc[attribute_classes[\"Activity\"] == col][\"class\"].iloc[0] != \"dynamic\"):\n",
    "            recom.drop(col, axis=1, inplace=True)"
   ]
  },
  {
   "cell_type": "code",
   "execution_count": null,
   "metadata": {},
   "outputs": [],
   "source": [
    "co_vars = recom.groupby(\"hadm_id\").agg(co_var)"
   ]
  },
  {
   "cell_type": "code",
   "execution_count": null,
   "metadata": {},
   "outputs": [],
   "source": [
    "final_co_vars = co_vars.mean().sort_values(ascending=False)"
   ]
  },
  {
   "cell_type": "code",
   "execution_count": null,
   "metadata": {},
   "outputs": [],
   "source": [
    "for index, row in attribute_classes.iterrows():\n",
    "    if(row[\"class\"] == \"dynamic\"):\n",
    "        attribute_classes.loc[attribute_classes[\"Activity\"] == row[\"Activity\"], \"CV\"] = final_co_vars[row[\"Activity\"]]"
   ]
  },
  {
   "cell_type": "code",
   "execution_count": null,
   "metadata": {},
   "outputs": [],
   "source": [
    "attribute_classes.to_csv(\"attributeClasses.csv\")"
   ]
  }
 ],
 "metadata": {
  "kernelspec": {
   "display_name": "Python 3",
   "language": "python",
   "name": "python3"
  },
  "language_info": {
   "codemirror_mode": {
    "name": "ipython",
    "version": 3
   },
   "file_extension": ".py",
   "mimetype": "text/x-python",
   "name": "python",
   "nbconvert_exporter": "python",
   "pygments_lexer": "ipython3",
   "version": "3.8.3"
  }
 },
 "nbformat": 4,
 "nbformat_minor": 4
}
